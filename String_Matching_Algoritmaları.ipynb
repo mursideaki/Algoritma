{
  "nbformat": 4,
  "nbformat_minor": 0,
  "metadata": {
    "colab": {
      "provenance": []
    },
    "kernelspec": {
      "name": "python3",
      "display_name": "Python 3"
    },
    "language_info": {
      "name": "python"
    }
  },
  "cells": [
    {
      "cell_type": "markdown",
      "source": [
        "# **STRING MATCHING ALGORİTMALARI**"
      ],
      "metadata": {
        "id": "CaJx8mivjn5a"
      }
    },
    {
      "cell_type": "markdown",
      "source": [
        "String Matching (dize eşleme), bir metin içinde bir desenin (pattern) bulunmasını sağlayan algoritmaların genel adıdır. Bu algoritmalar özellikle büyük veri içinde küçük bir deseni ararken, hızlı ve verimli sonuçlar elde etmeyi hedefler.\n",
        "\n",
        "Bu konuda iki temel algoritma öne çıkar; Boyer-Moore ve KMP (Knuth-Morris-Pratt) algoritmaları. İkisi de klasik \"naive\" string matching algoritmasından çok daha hızlıdır ve özellikle büyük metinlerde arama yaparken verimliliği artırır.\n",
        "\n",
        "# **1. Boyer-Moore Algoritması**\n",
        "Boyer-Moore algoritması, desenin eşleşmediği yerlerde geri gitmeden ileriye atlayarak metin arama sürecini hızlandırır. Genellikle uygulamada en hızlı string matching algoritmalarından biridir çünkü eşleşmenin en uzun kısmını göz ardı eder ve hızlı bir şekilde aramayı sürdürür.\n",
        "\n",
        "**Boyer-Moore’un Çalışma Prensibi**\n",
        "\n",
        "Bu algoritma, deseni sağdan sola doğru karşılaştırma yapar ve bazı atlama kurallarını kullanarak eşleşmeyi hızlandırır.\n",
        "\n",
        "İki temel atlama kuralı kullanılır:\n",
        "\n",
        "**Bad Character Heuristic (Kötü Karakter Sezgisi):**\n",
        "\n",
        "Boyer-Moore algoritmasında kullanılan bir stratejidir. Bu kural, aranacak dizedeki (desen) karakterlerin tekrar etmeyen biçimde bir tabloya yazılmasını içerir. Bu tablo sayesinde, metin üzerinde bir eşleşme sağlanamadığında, aranacak dizenin karakterleri üzerinde bir kaydırma yapılır.\n",
        "\n",
        "Her karakterin altında, max(1, length - index - 1) formülü kullanılarak bir maksimum kaydırma değeri hesaplanır. Eğer dizide bir karakter birden fazla kez bulunuyorsa, bu karakter için en son görüldüğü konum baz alınarak kaydırma değeri güncellenir. Böylece, eşleşme sağlanamadığında ne kadar sağa kaydırılacağı belirlenir.\n",
        "\n",
        "\n",
        "**Good Suffix Heuristic (İyi Sonek Sezgisi):**\n",
        "\n",
        "\n",
        "Boyer-Moore algoritması gibi dize eşleştirme tekniklerinde önemli bir yer tutar. Bu terim, bir desenin metin içinde ne kadar sağa kaydırılacağını belirlemeye yarayan bir kuraldır. Eğer bir iyi eşleşen sonek varsa, bu sonek için aynı karakterle eşleşen en uzun kısma atlanır.\n",
        "\n",
        "Boyer-Moore algoritması, aranan deseni metin üzerinde sağdan sola doğru kontrol etmeye başlar. Eşleşme sağlanmadığında, desenin sağ tarafındaki bir kısmın metinde bir karakterle eşleştiği durumlarda, desenin daha önceki bölümlerinin eşleşme ihtimaline bakmadan kaydırma miktarını belirleyebilir. Bu sayede, metin içinde aranan dizenin konumu daha doğru bir şekilde hesaplanır. Good-suffix, bu kaydırma işlemi sırasında kullanılarak algoritmanın etkinliğini artırır.\n",
        "\n",
        "**Boyer-Moore Algoritmasının Zaman Karmaşıklığı**\n",
        "\n",
        "Ortalama durum: $O(n/m)$ (n metin uzunluğu, m desen uzunluğu).\n",
        "\n",
        "En kötü durum: $O(n⋅m)$.\n",
        "\n",
        "**Python ile Boyer-Moore Algoritması**\n",
        "\n",
        "Bu kodda, Boyer-Moore algoritması, kötü karakter sezgisine dayanarak metin içinde desenin hangi pozisyonlarda bulunduğunu bulur."
      ],
      "metadata": {
        "id": "PMMCuj_Xjwfh"
      }
    },
    {
      "cell_type": "code",
      "execution_count": null,
      "metadata": {
        "colab": {
          "base_uri": "https://localhost:8080/"
        },
        "id": "-UXCBm3fjmlK",
        "outputId": "ba399e3c-c09b-4af1-a202-61fe22dca3ff"
      },
      "outputs": [
        {
          "output_type": "stream",
          "name": "stdout",
          "text": [
            "Desen 4 konumunda bulundu.\n"
          ]
        }
      ],
      "source": [
        "def bad_character_heuristic(pattern):\n",
        "    \"\"\"Kötü karakter dizisi oluşturma\"\"\"\n",
        "    bad_char = [-1] * 256  # ASCII tabanlı\n",
        "\n",
        "    # Pattern içindeki karakterlerin pozisyonlarını güncelle\n",
        "    for i in range(len(pattern)):\n",
        "        bad_char[ord(pattern[i])] = i\n",
        "    return bad_char\n",
        "\n",
        "def boyer_moore(text, pattern):\n",
        "    \"\"\"Boyer-Moore algoritması\"\"\"\n",
        "    m = len(pattern)\n",
        "    n = len(text)\n",
        "    bad_char = bad_character_heuristic(pattern)\n",
        "\n",
        "    s = 0  # Pattern'in metin üzerinde kaydırılma durumu\n",
        "    while s <= n - m:\n",
        "        j = m - 1  # Deseni sağdan sola karşılaştır\n",
        "\n",
        "        # Deseni sağdan sola karşılaştırarak uyuşmayı kontrol et\n",
        "        while j >= 0 and pattern[j] == text[s + j]:\n",
        "            j -= 1\n",
        "\n",
        "        # Eğer desen uyuşuyorsa\n",
        "        if j < 0:\n",
        "            print(f\"Desen {s} konumunda bulundu.\")\n",
        "            s += (m - bad_char[ord(text[s + m])] if s + m < n else 1)\n",
        "        else:\n",
        "            s += max(1, j - bad_char[ord(text[s + j])])\n",
        "\n",
        "# Örnek kullanım\n",
        "text = \"ABAAABCD\"\n",
        "pattern = \"ABC\"\n",
        "boyer_moore(text, pattern)\n"
      ]
    },
    {
      "cell_type": "markdown",
      "source": [
        "# **2. KMP (Knuth-Morris-Pratt) Algoritması**\n",
        "\n",
        "KMP algoritması, desenin tekrarlayan kısımlarını kullanarak aramayı hızlandırır. Desen içindeki bilgiye dayalı olarak, karakter eşleşmezse desenin en başına dönmek yerine desen içinde nereye geri gitmeniz gerektiğini bilir. Bu özellik de metin içindeki aramayı hızlandırır.\n",
        "\n",
        "**KMP'nin Temel Prensibi:**\n",
        "\n",
        "KMP algoritması, desen içinde bir karakter uyuşmadığında, daha önce yapılmış olan karşılaştırmaların sonuçlarını kullanarak nereye geri dönüleceğini belirler.\n",
        "\n",
        "**Prefix-Suffix Tablosu (Partial Match Table veya LPS Array):** Desenin içinde en uzun tekrar eden sonekleri ve önekleri takip eder. Karakter eşleşmediğinde, desenin başına dönmeden uygun bir şekilde geri dönmeyi sağlar.\n",
        "\n",
        "**KMP Algoritmasının Zaman Karmaşıklığı**\n",
        "\n",
        "En kötü durumda zaman karmaşıklığı: $O(n+m)$.\n",
        "\n",
        "**KMP Algoritmasının Adımları:**\n",
        "\n",
        "LPS Dizisi (Longest Prefix Suffix): Her desen karakteri için, aynı zamanda bir önek ve sonek olan en uzun kısmı bulur.\n",
        "\n",
        "Eşleşme: Eğer bir eşleşme olmazsa, LPS dizisine bakarak ne kadar geri dönüleceği belirlenir.\n",
        "\n",
        "**Python ile KMP Algoritması**"
      ],
      "metadata": {
        "id": "XV2EnjuAlyYM"
      }
    },
    {
      "cell_type": "code",
      "source": [
        "def compute_lps(pattern):\n",
        "    \"\"\"LPS (Longest Prefix Suffix) dizisini oluşturma\"\"\"\n",
        "    lps = [0] * len(pattern)\n",
        "    length = 0  # Önceki en uzun prefix/suffix uzunluğu\n",
        "    i = 1\n",
        "\n",
        "    while i < len(pattern):\n",
        "        if pattern[i] == pattern[length]:\n",
        "            length += 1\n",
        "            lps[i] = length\n",
        "            i += 1\n",
        "        else:\n",
        "            if length != 0:\n",
        "                length = lps[length - 1]\n",
        "            else:\n",
        "                lps[i] = 0\n",
        "                i += 1\n",
        "    return lps\n",
        "\n",
        "def kmp(text, pattern):\n",
        "    \"\"\"KMP algoritması\"\"\"\n",
        "    m = len(pattern)\n",
        "    n = len(text)\n",
        "\n",
        "    lps = compute_lps(pattern)  # Desen için LPS dizisini oluştur\n",
        "    i = 0  # Metin için indeks\n",
        "    j = 0  # Desen için indeks\n",
        "\n",
        "    while i < n:\n",
        "        if pattern[j] == text[i]:\n",
        "            i += 1\n",
        "            j += 1\n",
        "\n",
        "        if j == m:\n",
        "            print(f\"Desen {i - j} konumunda bulundu.\")\n",
        "            j = lps[j - 1]\n",
        "\n",
        "        elif i < n and pattern[j] != text[i]:\n",
        "            if j != 0:\n",
        "                j = lps[j - 1]\n",
        "            else:\n",
        "                i += 1\n",
        "\n",
        "# Örnek kullanım\n",
        "text = \"ABABDABACDABABCABAB\"\n",
        "pattern = \"ABABCABAB\"\n",
        "kmp(text, pattern)\n"
      ],
      "metadata": {
        "colab": {
          "base_uri": "https://localhost:8080/"
        },
        "id": "mVOHbzypmfMq",
        "outputId": "eb6709e9-fb94-44a9-dd72-cc93693d524d"
      },
      "execution_count": null,
      "outputs": [
        {
          "output_type": "stream",
          "name": "stdout",
          "text": [
            "Desen 10 konumunda bulundu.\n"
          ]
        }
      ]
    },
    {
      "cell_type": "markdown",
      "source": [
        "## **KMP Algoritması Kod Açıklaması**\n",
        "\n",
        "**compute_lps(pattern):** Bu fonksiyon, LPS dizisini (Longest Prefix Suffix) hesaplar. Desenin hangi kısmına geri dönülmesi gerektiğini gösterir.\n",
        "\n",
        "**kmp(text, pattern):** Bu fonksiyon, KMP algoritmasını çalıştırır ve metin içinde desenin hangi konumlarda bulunduğunu bulur.\n",
        "\n",
        "**Özet**\n",
        "\n",
        "Boyer-Moore algoritması, özellikle uzun desenler ve büyük metinler için oldukça etkili bir dize eşleme algoritmasıdır. \"Bad character heuristic\" ve \"good suffix heuristic\" gibi iki ana kuralı kullanarak, eşleşmeyen karakterler tespit edildiğinde desenin büyük bir kısmını atlayarak aramayı hızlandırır. Ancak, kısa desenler için KMP algoritması daha uygun olabilir. KMP algoritması, desen içindeki tekrar eden alt dizileri kullanarak, karakter eşleşmezse desenin başından itibaren aramaya başlamak yerine, daha önce hesaplanan bir tabloya göre uygun bir konuma atlar. Bu sayede, özellikle tekrar eden desenler için daha hızlı sonuçlar verir."
      ],
      "metadata": {
        "id": "7zeKI8RPmsOp"
      }
    }
  ]
}