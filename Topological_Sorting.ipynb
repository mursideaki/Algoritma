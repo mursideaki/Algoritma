{
  "nbformat": 4,
  "nbformat_minor": 0,
  "metadata": {
    "colab": {
      "provenance": []
    },
    "kernelspec": {
      "name": "python3",
      "display_name": "Python 3"
    },
    "language_info": {
      "name": "python"
    }
  },
  "cells": [
    {
      "cell_type": "markdown",
      "source": [
        "# **TOPOLOGICAL SORTING** **(Topolojik Sıralama)**"
      ],
      "metadata": {
        "id": "XFoz5j8z5sty"
      }
    },
    {
      "cell_type": "markdown",
      "source": [
        "Topolojik sıralama, bir Directed Acyclic Graph'ta (DAG - Yönlendirilmiş Asiklik Grafik) düğümlerin sıralanmasıdır. Bu sıralama, her kenarın\n",
        "𝑢\n",
        "→\n",
        "𝑣 şeklinde olduğu grafikte, düğüm\n",
        "𝑢'nun\n",
        "𝑣'den önce geldiği bir sırayı temsil eder. Yani, her düğüm, yalnızca kendisine gelen diğer düğümler sıralandıktan sonra sıralanabilir.\n",
        "\n",
        "**Özellikleri**\n",
        "\n",
        "**Yönlendirilmiş Asiklik Grafik (DAG):** Topolojik sıralama yalnızca yönlendirilmiş ve döngüsüz grafiklerde yapılabilir. Eğer grafikte bir döngü varsa, topolojik sıralama mümkün değildir.\n",
        "\n",
        "**Birden Fazla Geçerli Sıralama:** Bir DAG'da birden fazla geçerli topolojik sıralama olabilir.\n",
        "\n",
        "# Topolojik Sıralama Nasıl Yapılır?\n",
        "Topolojik sıralama için kullanılan başlıca iki algoritma vardır:\n",
        "\n",
        "**Kahn’s Algorithm (BFS Tabanlı):** Bu algoritma, sıfır giriş derecesine sahip düğümleri bulur ve sırayla bu düğümleri sıralamaya ekler. Bir düğüm sıralamaya eklendiğinde, bu düğüme bağlı diğer düğümlerin giriş dereceleri güncellenir.\n",
        "\n",
        "**DFS Tabanlı Topolojik Sıralama:** Derinlemesine bir arama (DFS) kullanarak, bir düğümden daha ileriye gidilemediğinde bu düğüm sıralamaya eklenir. Bu işlem tüm düğümler için yapılır ve sıralama tersine çevrilerek elde edilir.\n",
        "\n",
        "**DFS ile Topolojik Sıralama Nasıl Yapılır?**\n",
        "Tüm düğümleri ziyaret edilmemiş olarak işaretle.\n",
        "\n",
        "Her düğüm için DFS işlemi yap, geri dönerken düğümü sıralamaya ekle.\n",
        "\n",
        "DFS işlemi tüm düğümler üzerinde tamamlandığında, sıralama tersine çevrilir.\n",
        "\n",
        "\n",
        "Aşağıda DFS tabanlı topolojik sıralama algoritması ile bir Python kodu bulacaksınız:"
      ],
      "metadata": {
        "id": "e9VM6KKz5zXi"
      }
    },
    {
      "cell_type": "code",
      "execution_count": null,
      "metadata": {
        "colab": {
          "base_uri": "https://localhost:8080/"
        },
        "id": "KjZVfyKB5qMj",
        "outputId": "edc54d17-18e4-4ac1-f89f-b0a7f6aef3b2"
      },
      "outputs": [
        {
          "output_type": "stream",
          "name": "stdout",
          "text": [
            "Topolojik sıralama:\n",
            "[5, 4, 2, 3, 1, 0]\n"
          ]
        }
      ],
      "source": [
        "from collections import defaultdict\n",
        "\n",
        "class Graph:\n",
        "    def __init__(self, vertices):\n",
        "        \"\"\"vertices: Grafikteki düğüm sayısı\"\"\"\n",
        "        self.graph = defaultdict(list)  # Komşuluk listesi\n",
        "        self.vertices = vertices  # Düğüm sayısı\n",
        "\n",
        "    def add_edge(self, u, v):\n",
        "        \"\"\"Grafiğe u -> v kenarını ekle\"\"\"\n",
        "        self.graph[u].append(v)\n",
        "\n",
        "    def topological_sort_util(self, v, visited, stack):\n",
        "        \"\"\"Topolojik sıralama için yardımcı fonksiyon\"\"\"\n",
        "        # Bu düğümü ziyaret edildi olarak işaretle\n",
        "        visited[v] = True\n",
        "\n",
        "        # Bu düğüme bağlı tüm komşuları ziyaret et\n",
        "        for neighbor in self.graph[v]:\n",
        "            if not visited[neighbor]:\n",
        "                self.topological_sort_util(neighbor, visited, stack)\n",
        "\n",
        "        # Tüm komşular ziyaret edildikten sonra düğümü stack'e ekle\n",
        "        stack.append(v)\n",
        "\n",
        "    def topological_sort(self):\n",
        "        \"\"\"DFS kullanarak topolojik sıralama yap\"\"\"\n",
        "        # Tüm düğümler için ziyaret edilmedi olarak başlat\n",
        "        visited = [False] * self.vertices\n",
        "        stack = []\n",
        "\n",
        "        # Tüm düğümler için DFS başlat\n",
        "        for i in range(self.vertices):\n",
        "            if not visited[i]:\n",
        "                self.topological_sort_util(i, visited, stack)\n",
        "\n",
        "        # Stack'teki elemanları tersine çevirerek sıralamayı döndür\n",
        "        return stack[::-1]  # Stack'in tersini döndürmek topolojik sırayı verir\n",
        "\n",
        "# Örnek kullanım\n",
        "if __name__ == \"__main__\":\n",
        "    # 6 düğümlü bir grafik oluştur\n",
        "    g = Graph(6)\n",
        "    g.add_edge(5, 2)\n",
        "    g.add_edge(5, 0)\n",
        "    g.add_edge(4, 0)\n",
        "    g.add_edge(4, 1)\n",
        "    g.add_edge(2, 3)\n",
        "    g.add_edge(3, 1)\n",
        "\n",
        "    print(\"Topolojik sıralama:\")\n",
        "    result = g.topological_sort()\n",
        "    print(result)\n"
      ]
    },
    {
      "cell_type": "markdown",
      "source": [
        "**Kod Açıklaması**\n",
        "\n",
        "**Graph Sınıfı**\n",
        "\n",
        "Bu sınıf, bir grafiği temsil eder. graph değişkeni, bir düğümün komşularını saklamak için kullanılır. vertices, düğüm sayısını temsil eder.\n",
        "\n",
        "**add_edge(u, v)**\n",
        "\n",
        "Grafiğe bir yönlü kenar eklemek için kullanılır. Bu, 𝑢→𝑣 şeklindeki bir kenarı grafiğe ekler.\n",
        "\n",
        "**topological_sort_util(v, visited, stack)**\n",
        "\n",
        "Belirli bir düğümden başlayarak DFS işlemi yapar. DFS sırasında bir düğümü ziyaret edildikten sonra stack'e ekler.\n",
        "\n",
        "*   **visited dizisi**, düğümün ziyaret edilip edilmediğini kontrol eder.\n",
        "*   **stack dizisi**, sıralanan düğümleri içerir.\n",
        "\n",
        "**topological_sort()**\n",
        "\n",
        "Tüm düğümleri ziyaret ederek DFS işlemi başlatır ve topolojik sıralamayı elde eder.\n",
        "\n",
        "DFS sonrası düğümleri stack'e ekler ve en son stack'i tersine çevirir (LIFO mantığına göre) çünkü DFS derinlemesine işlediği için en son ulaşılabilir düğümler önce sıralanır.\n",
        "\n",
        "**Örnek**\n",
        "\n",
        "Grafik: $5→2, 5→0, 4→0, 4→1, 2→3, 3→1$\n",
        "\n",
        "Yukarıdaki örnekte:\n",
        "\n",
        "5→2 ve 5→0 bağlantıları var.\n",
        "\n",
        "4→0 ve 4→1 bağlantıları var.\n",
        "\n",
        "2→3, 3→1 bağlantıları var.\n",
        "\n",
        "**Topolojik sıralama:** [5, 4, 2, 3, 1, 0] olabilir. Bu sıralama, kenarlardaki bağımlılıklara göre düğümleri sıralar.\n",
        "\n",
        "**Önemli Noktalar**\n",
        "\n",
        "Bu algoritma yalnızca DAG (Yönlendirilmiş Asiklik Grafik) üzerinde çalışır. Döngü içeren grafiklerde topolojik sıralama yapmak mümkün değildir.\n",
        "Bir DAG üzerinde birden fazla geçerli topolojik sıralama olabilir.\n",
        "Topolojik sıralama, görevlerin yapılma sırasını belirlemek gibi bağımlılık çözme problemlerinde kullanılır.\n",
        "\n",
        "\n",
        "Topolojik sıralama, DAG'larda düğümlerin belirli bir sıraya göre yerleştirilmesi işlemidir. Bu sıralama, gerçek hayatta birçok alanda kullanılır. Örneğin, bir yazılım projesinde görevlerin yapılması gereken sırayı belirlemek için, bir derleyicide sözdizimi ağacını gezmek için veya bir biyoinformatik uygulamasında genlerin düzenlenmesini analiz etmek için kullanılabilir. Topolojik sıralama, aynı zamanda, proje yönetimi araçlarında kritik yol analizinde ve Gantt chart'ların oluşturulmasında da önemli bir rol oynar. Kahn algoritması ve DFS tabanlı algoritma gibi farklı yöntemlerle topolojik sıralama yapılabilir. Bu algoritmaların zaman ve uzay karmaşıklıkları, grafiğin yoğunluğuna ve yapısına göre değişir. Büyük ölçekli grafiklerde paralel ve dağıtık algoritmalar kullanarak topolojik sıralama yapmak daha verimli olabilir. Python'da NetworkX kütüphanesi gibi araçlar, topolojik sıralama işlemlerini kolaylaştırır."
      ],
      "metadata": {
        "id": "b2CxEOxGGcvr"
      }
    }
  ]
}