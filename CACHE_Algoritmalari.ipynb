{
  "nbformat": 4,
  "nbformat_minor": 0,
  "metadata": {
    "colab": {
      "provenance": []
    },
    "kernelspec": {
      "name": "python3",
      "display_name": "Python 3"
    },
    "language_info": {
      "name": "python"
    }
  },
  "cells": [
    {
      "cell_type": "markdown",
      "source": [
        "# **CACHE ALGORİTMALARI**"
      ],
      "metadata": {
        "id": "ekUOQo46ndaa"
      }
    },
    {
      "cell_type": "markdown",
      "source": [
        "# 1. **LRU**\n",
        "\n",
        "LRU (Least Recently Used) algoritması, bir cache replacement (önbellek değiştirme) algoritmasıdır. Cache sistemlerinde, sınırlı bir bellek kapasitesi olduğu için eski veya nadiren kullanılan verilerin yerine daha yeni verilerin getirilmesi gerekir. LRU, bellekte tutulan verilerden en uzun süredir kullanılmayan veriyi bulup, onu yeni veriyle değiştiren bir stratejidir.\n",
        "\n",
        "##**LRU Algoritmasının Temel Prensibi**\n",
        "\n",
        "Bellekte sınırlı bir alan (cache) vardır.\n",
        "\n",
        "Yeni bir veri cache'e gireceğinde, alan doluysa eski verilerden biri silinmelidir.\n",
        "\n",
        "LRU algoritması, en uzun süredir kullanılmayan (least recently used) veriyi kaldırır ve yerine yeni veriyi ekler.\n",
        "\n",
        "Böylece, en son kullanılan veriler bellekte kalmaya devam eder.\n",
        "\n",
        "##**LRU’nun Çalışma Prensibi**\n",
        "\n",
        "**Erişim Takibi:** Her veri öğesinin en son ne zaman kullanıldığı izlenir.\n",
        "\n",
        "**En Eskiyi Çıkarma:** Yeni bir veri cache'e eklenmek istendiğinde, bellekte yer yoksa en uzun süredir kullanılmayan veri kaldırılır.\n",
        "\n",
        "**Güncelleme:** Eğer cache’te kullanılan bir veri varsa, bu veri en son kullanılan olarak güncellenir.\n",
        "\n",
        "##**LRU Algoritmasının Zaman Karmaşıklığı**\n",
        "\n",
        "LRU'yu verimli bir şekilde uygulamak için iki veri yapısı kullanılır:\n",
        "\n",
        "**HashMap:** Veri öğesine hızlı erişim sağlamak için kullanılır. O(1) zaman karmaşıklığına sahip.\n",
        "\n",
        "**Doubly Linked List (Çift Yönlü Bağlı Liste):** En eski ve en yeni kullanılan verileri izlemek için kullanılır. Veri ekleme ve kaldırma işlemleri O(1) zaman karmaşıklığına sahiptir.\n",
        "\n",
        "###**Python ile LRU Cache Algoritması:**\n",
        "\n",
        "Aşağıda, Python'da LRU algoritmasının basit bir uygulamasını yapacağız. Bu uygulama, standart OrderedDict kullanarak uygulanacaktır."
      ],
      "metadata": {
        "id": "kwWszT-vnlSd"
      }
    },
    {
      "cell_type": "code",
      "execution_count": null,
      "metadata": {
        "colab": {
          "base_uri": "https://localhost:8080/"
        },
        "id": "9wfxWur4nJ2R",
        "outputId": "b490464f-8d33-427b-8ff8-d444ca9ba63c"
      },
      "outputs": [
        {
          "output_type": "stream",
          "name": "stdout",
          "text": [
            "1\n",
            "Aranan anahtar bulunamadı.\n"
          ]
        }
      ],
      "source": [
        "from collections import OrderedDict\n",
        "\n",
        "class LRUCache:\n",
        "    def __init__(self, capacity: int):\n",
        "        self.cache = OrderedDict()  # Cache verilerini saklamak için OrderedDict kullanıyoruz\n",
        "        self.capacity = capacity  # Cache kapasitesini belirliyoruz\n",
        "\n",
        "    def get(self, key: int) -> int:\n",
        "        # Eğer anahtar cache'de mevcutsa, onu kullanılmış olarak güncelleyip değeri döndür.\n",
        "        if key in self.cache:\n",
        "            self.cache.move_to_end(key)  # En son kullanılan olarak güncelle.\n",
        "            return self.cache[key]\n",
        "        return \"Aranan anahtar bulunamadı.\"  # Anahtar cache'de bulunmazsa -1 döner.\n",
        "\n",
        "    def put(self, key: int, value: int) -> None:\n",
        "        # Eğer anahtar cache'de varsa, değeri güncelle ve en son kullanılan yap.\n",
        "        if key in self.cache:\n",
        "            self.cache.move_to_end(key)  # En son kullanılan olarak güncelle.\n",
        "        self.cache[key] = value\n",
        "        # Eğer cache kapasitesini aşarsa en eski öğeyi çıkar.\n",
        "        if len(self.cache) > self.capacity:\n",
        "            self.cache.popitem(last=False)  # En eski öğeyi çıkar (FIFO mantığı)\n",
        "\n",
        "# Örnek kullanım\n",
        "lru_cache = LRUCache(3) # parantez içindeki sayı bellek kapasitesini belirtir\n",
        "\n",
        "lru_cache.put(1, 1)\n",
        "lru_cache.put(2, 2)\n",
        "print(lru_cache.get(1))  # 1'i getirir\n",
        "lru_cache.put(3, 3)\n",
        "lru_cache.put(4, 4)  # Bu noktada 2 çıkartılacak\n",
        "print(lru_cache.get(2))  # 2 yok, \"Aranan anahtar bulunamadı.\" döner\n"
      ]
    },
    {
      "cell_type": "markdown",
      "source": [
        "##**LRU Cache Python Kodu Açıklaması**\n",
        "\n",
        "**LRUCache sınıfı**, OrderedDict kullanarak bir cache oluşturur.\n",
        "\n",
        "**get fonksiyonu**, cache'deki bir veriye erişmek için kullanılır. Eğer veri cache'de varsa en son kullanılan olarak güncellenir, yoksa -1 döner.\n",
        "\n",
        "**put fonksiyonu**, yeni bir veri ekler veya mevcut bir veriyi günceller. Eğer cache kapasitesi aşılırsa en eski veri silinir.\n",
        "\n",
        "##**LRU Algoritmasının Avantajları**\n",
        "\n",
        "**Verimli Bellek Kullanımı:** Bellekte gereksiz yere en eski verileri tutmak yerine, sık kullanılan veriler korunur.\n",
        "\n",
        "**Optimal Performans:** LRU, sık kullanılan verilerin cache’te bulunma ihtimalini artırarak, hızlı erişim sağlar.\n",
        "\n",
        "##**LRU Algoritmasının Kullanım Alanları**\n",
        "\n",
        "**Bellek Yönetimi:**\n",
        "\n",
        "Bilgisayar sistemlerinde bellek kullanımını optimize etmek için LRU sıkça kullanılır.\n",
        "\n",
        "**Veri Tabanı Önbellekleme:** Sık kullanılan veri sorgularının önbellekte tutulmasını sağlar.\n",
        "\n",
        "**Dosya Sistemi Önbellekleme:**\n",
        "Disk I/O'yu optimize etmek için kullanılır.\n",
        "\n",
        "**Web Tarayıcıları:** Sık ziyaret edilen web sayfalarını tarayıcı cache'inde tutmak için LRU algoritması kullanılır.\n"
      ],
      "metadata": {
        "id": "_XA-FAtTtkrS"
      }
    },
    {
      "cell_type": "markdown",
      "source": [
        "# **2. FIFO**\n",
        "##**FIFO (First In, First Out) Cache Algoritması**\n",
        "\n",
        "FIFO, \"İlk Giren İlk Çıkar\" mantığıyla çalışan en basit cache algoritmalarından biridir. Bellekte yeni bir veri eklenmesi gerektiğinde, en önce eklenen yani en eski veri silinir.\n",
        "\n",
        "##**FIFO'nun Prensibi**\n",
        "\n",
        "Veriler sırayla cache'e eklenir.\n",
        "\n",
        "Yeni bir veri eklenirken bellekte yer kalmamışsa, en eski veri (cache'e ilk giren veri) çıkarılır.\n",
        "\n",
        "##**FIFO Algoritmasının Avantajları**\n",
        "\n",
        "**Basitlik:** FIFO, uygulanması en basit cache algoritmalarından biridir. Çünkü sadece verilerin eklenme sırasına bakarak karar verir.\n",
        "\n",
        "**Verimli Çalışma:** Basitliği nedeniyle genellikle verimli çalışır, ancak çok karmaşık veya sık güncellenen verilerle çalışırken sorunlar yaratabilir.\n",
        "\n",
        "##**FIFO Algoritmasının Dezavantajları**\n",
        "\n",
        "**Optimal Olmama:** FIFO, en eski veriyi çıkardığı için sık kullanılan ancak erken eklenmiş bir veri gereksiz yere çıkarılabilir. Bu da optimal olmayan sonuçlar doğurabilir.\n",
        "\n",
        "###**Python ile FIFO Uygulaması**"
      ],
      "metadata": {
        "id": "EaIzlr63A5k8"
      }
    },
    {
      "cell_type": "code",
      "source": [
        "class FIFOCache:\n",
        "    def __init__(self, capacity: int):\n",
        "        self.cache = []\n",
        "        self.capacity = capacity\n",
        "\n",
        "    def get(self, key: int) -> int:\n",
        "        for k, v in self.cache:\n",
        "            if k == key:\n",
        "                return v\n",
        "        return \"Aranan anahtar bulunamadı.\"\n",
        "\n",
        "    def put(self, key: int, value: int) -> None:\n",
        "        if len(self.cache) >= self.capacity:\n",
        "            self.cache.pop(0)  # İlk gireni çıkart\n",
        "        self.cache.append((key, value))  # Yeni veriyi ekle\n",
        "\n",
        "# Örnek kullanım:\n",
        "fifo_cache = FIFOCache(2) # parantez içindeki sayı bellek kapasitesini belirtir\n",
        "fifo_cache.put(1, 1)\n",
        "fifo_cache.put(2, 2)\n",
        "print(fifo_cache.get(1))  # 1 döndürür\n",
        "fifo_cache.put(3, 3)  # En eski veri (1) çıkarılır\n",
        "print(fifo_cache.get(2))  # 2 döndürür\n",
        "print(fifo_cache.get(1))  # 1 çıkarıldığı için \"Aranan anahtar bulunamadı\" döndürür\n"
      ],
      "metadata": {
        "colab": {
          "base_uri": "https://localhost:8080/"
        },
        "id": "X7NRihqzCB2C",
        "outputId": "2a7f1a2f-4112-4fdf-cd02-e49ef9a44f11"
      },
      "execution_count": null,
      "outputs": [
        {
          "output_type": "stream",
          "name": "stdout",
          "text": [
            "1\n",
            "2\n",
            "Aranan anahtar bulunamadı.\n"
          ]
        }
      ]
    },
    {
      "cell_type": "markdown",
      "source": [
        "# **3. LFU**\n",
        "\n",
        "##**LFU (Least Frequently Used) Cache Algoritması**\n",
        "\n",
        "LFU, en az kullanılan veriyi çıkaran bir cache algoritmasıdır. Verilerin kullanım sıklığını takip eder ve en az kullanılan veriyi cache'den çıkarır. LRU’nun aksine, verilerin ne sıklıkla kullanıldığına bakar ve uzun süredir kullanılmamış ancak sık kullanılan verileri cache'de tutar.\n",
        "\n",
        "##**LFU'nun Çalışma Prensibi**\n",
        "\n",
        "Her veri cache'de tutulurken kaç kez kullanıldığı (erişildiği) izlenir.\n",
        "\n",
        "Yeni bir veri eklenmesi gerektiğinde, en az kullanılan (erişilen) veri çıkarılır.\n",
        "\n",
        "##**LFU Algoritmasının Avantajları**\n",
        "\n",
        "**Sık Kullanılan Verileri Korur:** LFU, sık kullanılan verilerin cache'de kalmasını garanti eder.\n",
        "\n",
        "##**LFU Algoritmasının Dezavantajları**\n",
        "\n",
        "**Uygulama Karmaşıklığı:** LFU, kullanım sıklığını izlemek için daha karmaşık veri yapıları gerektirir.\n",
        "\n",
        "\n",
        "###**Python ile LFU Uygulaması**"
      ],
      "metadata": {
        "id": "VJ7nrexhC5vD"
      }
    },
    {
      "cell_type": "code",
      "source": [
        "from collections import defaultdict\n",
        "\n",
        "class LFUCache:\n",
        "    def __init__(self, capacity: int):\n",
        "        self.cache = {}\n",
        "        self.freq = defaultdict(int)  # Her anahtarın kaç kez kullanıldığını takip etmek için\n",
        "        self.capacity = capacity\n",
        "\n",
        "    def get(self, key: int) -> int:\n",
        "        if key in self.cache:\n",
        "            self.freq[key] += 1  # Kullanım sıklığını güncelle\n",
        "            return self.cache[key]\n",
        "        return \"Aranan anahtar bulunamadı.\"\n",
        "\n",
        "    def put(self, key: int, value: int) -> None:\n",
        "        if len(self.cache) >= self.capacity:\n",
        "            # En az kullanılan anahtarı bul ve çıkar\n",
        "            lfu_key = min(self.freq, key=lambda k: self.freq[k])\n",
        "            del self.cache[lfu_key]\n",
        "            del self.freq[lfu_key]\n",
        "\n",
        "        self.cache[key] = value\n",
        "        self.freq[key] = 1  # Yeni anahtarın kullanım sıklığını 1 yap\n",
        "\n",
        "# Örnek kullanım:\n",
        "lfu_cache = LFUCache(2) # parantez içindeki sayı bellek kapasitesini belirtir\n",
        "lfu_cache.put(1, 1)\n",
        "lfu_cache.put(2, 2)\n",
        "print(lfu_cache.get(1))  # 1 döndürür\n",
        "lfu_cache.put(3, 3)  # En az kullanılan (2) çıkarılır\n",
        "print(lfu_cache.get(2))  # 2 çıkarıldığı için \"Aranan anahtar bulunamadı.\" döndürür\n",
        "print(lfu_cache.get(1))  # 1 döndürür\n"
      ],
      "metadata": {
        "colab": {
          "base_uri": "https://localhost:8080/"
        },
        "id": "ggtQPrphD3O9",
        "outputId": "b6147826-8f2f-4b8f-fd9d-00417fdc7fb8"
      },
      "execution_count": null,
      "outputs": [
        {
          "output_type": "stream",
          "name": "stdout",
          "text": [
            "1\n",
            "Aranan anahtar bulunamadı.\n",
            "1\n"
          ]
        }
      ]
    },
    {
      "cell_type": "markdown",
      "source": [
        "# **LRU, FIFO ve LFU'nun Karşılaştırılması**\n",
        "**FIFO:** En eski veriyi çıkarır, kullanımların sıklığına veya zamansal değerine bakmaz.\n",
        "\n",
        "**LFU:** Kullanım sıklığını dikkate alır, nadiren kullanılan verileri çıkarır.\n",
        "\n",
        "**LRU:** Zaman temelinde en uzun süredir kullanılmayan veriyi çıkarır.\n",
        "\n",
        "##**FIFO, LFU ve LRU Algoritmalarının Kullanım Alanları**\n",
        "\n",
        "**FIFO:** Basit veri saklama ve işleme gereksinimlerinde kullanılır, ancak daha karmaşık senaryolar için uygun olmayabilir.\n",
        "\n",
        "**LFU:** Sıkça kullanılan verilerin önemli olduğu veri tabanı ve disk önbellekleme senaryolarında tercih edilir.\n",
        "\n",
        "**LRU:** Genellikle web tarayıcıları, işletim sistemleri ve uygulama önbellekleme sistemlerinde kullanılır.\n",
        "\n",
        "Sonuç Olarak, FIFO, LFU ve LRU gibi cache algoritmaları, verimli bellek yönetimi sağlamak için farklı stratejiler uygular. Her biri farklı senaryolarda kullanılır ve algoritma tasarımı içinde \"Cache Replacement Strategies\" altında detaylı olarak ele alınabilir. FIFO daha basit ve öğretici olabilirken, LFU ve LRU daha karmaşık ancak gerçeğe daha yakın kullanımlar için uygundur."
      ],
      "metadata": {
        "id": "78U30irdFFx_"
      }
    }
  ]
}